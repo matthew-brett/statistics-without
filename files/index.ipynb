{
 "cells": [
  {
   "cell_type": "markdown",
   "metadata": {},
   "source": [
    "---\n",
    "title: \"Statistics without the agonizing pain\"\n",
    "author: \"Matthew Brett\"\n",
    "format:\n",
    "  revealjs:\n",
    "    preview-links: auto\n",
    "    embed-resources: true\n",
    "---\n",
    "\n",
    "## First slide\n",
    "\n",
    "Some text\n",
    "\n",
    "-   Point 1\n",
    "-   Point 2\n",
    "\n",
    "## Code\n",
    "\n",
    "```r\n",
    "# Some code\n",
    "a <- 1\n",
    "```\n",
    "\n",
    "::: footer\n",
    "More information.\n",
    ":::"
   ]
  }
 ],
 "metadata": {
  "kernelspec": {
   "display_name": "Python 3",
   "language": "python",
   "name": "python3"
  }
 },
 "nbformat": 4,
 "nbformat_minor": 4
}
