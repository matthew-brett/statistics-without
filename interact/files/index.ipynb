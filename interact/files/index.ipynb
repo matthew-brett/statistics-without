{
 "cells": [
  {
   "cell_type": "markdown",
   "metadata": {},
   "source": [
    "---\n",
    "title: \"Statistics without the agonizing pain\"\n",
    "author: \"Matthew Brett\"\n",
    "bibliography: without.bib\n",
    "format:\n",
    "  revealjs:\n",
    "    preview-links: auto\n",
    "    embed-resources: true\n",
    "---\n",
    "\n",
    "## Title from ...\n",
    "\n",
    "John Rauser: [Statistics Without the Agonizing\n",
    "Pain](https://www.youtube.com/watch?v=5Dnw46eC-0o)\n",
    "\n",
    "## Getting started\n",
    "\n",
    "Go to <https://bit.ly/statistics-without>.\n",
    "\n",
    "## Assertion\n",
    "\n",
    "> Teaching statistics by way of mathematics is like teaching philosophy by way\n",
    "of ancient Greek\n",
    "\n",
    "(Paraphrased from @wallis1956statistics).\n",
    "\n",
    "## Epicycles\n",
    "\n",
    "![](images/ptolemaic.png)\n",
    "\n",
    "@cobb2007introductory\n",
    "\n",
    "## A whole new world\n",
    "\n",
    "* \"Code to learn\" rather than \"learn to code\".\n",
    "* Build statistical procedures.\n",
    "* Thinking about randomness.\n",
    "\n",
    "## A problem\n",
    "\n",
    "![](images/mosquito_banner.png)\n",
    "\n",
    "## Our data\n",
    "\n",
    "From [Mosquito, beer\n",
    "dataset](https://github.com/odsti/datasets/tree/main/mosquito_beer)."
   ]
  },
  {
   "cell_type": "code",
   "execution_count": null,
   "metadata": {},
   "outputs": [],
   "source": [
    "import numpy as np  # The array library."
   ]
  },
  {
   "cell_type": "code",
   "execution_count": null,
   "metadata": {},
   "outputs": [],
   "source": [
    "#| echo: true\n",
    "beers = np.array([14, 33, 27, 11, 12,\n",
    "                  27, 26, 25, 27, 27,\n",
    "                  22, 36, 37,  3, 23,\n",
    "                  7 , 25, 17, 36, 31,\n",
    "                  30, 22, 20, 29, 23])"
   ]
  },
  {
   "cell_type": "code",
   "execution_count": null,
   "metadata": {},
   "outputs": [],
   "source": [
    "#| echo: true\n",
    "waters = np.array([33, 23, 23, 13, 24,\n",
    "                    8,  4, 21, 24, 21,\n",
    "                   26, 27, 22, 21, 25,\n",
    "                   20,  7, 3])"
   ]
  },
  {
   "cell_type": "markdown",
   "metadata": {},
   "source": [
    "## Distributions"
   ]
  },
  {
   "cell_type": "code",
   "execution_count": null,
   "metadata": {},
   "outputs": [],
   "source": [
    "# Plot histograms of beer and water values.\n",
    "import matplotlib.pyplot as plt  # Plotting library.\n",
    "\n",
    "bins = np.arange(0, 38, 2)\n",
    "plt.hist(beers, bins=bins, alpha=0.5, label='beer')\n",
    "plt.hist(waters, bins=bins, alpha=0.5, label='water')\n",
    "plt.title('Distribution of beer and water values')\n",
    "plt.legend();"
   ]
  },
  {
   "cell_type": "markdown",
   "metadata": {},
   "source": [
    "## Means and difference"
   ]
  },
  {
   "cell_type": "code",
   "execution_count": null,
   "metadata": {},
   "outputs": [],
   "source": [
    "mean_beer = np.mean(beers)\n",
    "print(f'Mean of beer values is: {mean_beer:.2f}')"
   ]
  },
  {
   "cell_type": "code",
   "execution_count": null,
   "metadata": {},
   "outputs": [],
   "source": [
    "mean_water = np.mean(waters)\n",
    "print(f'Mean of water values is: {mean_water:.2f}')"
   ]
  },
  {
   "cell_type": "code",
   "execution_count": null,
   "metadata": {},
   "outputs": [],
   "source": [
    "mean_diff = mean_beer - mean_water\n",
    "print(f'Mean difference is: {mean_diff:.2f}')"
   ]
  },
  {
   "cell_type": "markdown",
   "metadata": {},
   "source": [
    "## The null hypothesis\n",
    "\n",
    "Or *the null universe*.\n",
    "\n",
    "Or *the null world*.\n",
    "\n",
    "Null means \"not any\".\n",
    "\n",
    "Define a world in which the difference of interest is set to zero.\n",
    "\n",
    "> There is not any difference in the population from which `beer` has been\n",
    "drawn, and the population from which `water` has been drawn.\n",
    "\n",
    "## Null implies\n",
    "\n",
    "If we draw a very large number of similar samples for `beer` and `water`, then\n",
    "the average mean difference will approach 0.\n",
    "\n",
    "* Observed: 4.43\n",
    "* Expected in long run on null: 0\n",
    "\n",
    "Is this observed value plausibly interpreted as a mean difference of samples from the null-world?\n",
    "\n",
    "## The t-test.\n",
    "\n",
    "![](images/ind_t_test.jpg)\n",
    "\n",
    "::: footer\n",
    "See the [t-test formula page of Statistical tools for high-throughput data\n",
    "analysis](http://www.sthda.com/english/wiki/t-test-formula#independent-two-sample-t-test)\n",
    ":::\n",
    "\n",
    "## A take-out meal"
   ]
  },
  {
   "cell_type": "code",
   "execution_count": null,
   "metadata": {},
   "outputs": [],
   "source": [
    "#| echo: true\n",
    "import scipy.stats as sps\n",
    "\n",
    "sps.ttest_ind(beers, waters, alternative='greater')"
   ]
  },
  {
   "cell_type": "markdown",
   "metadata": {},
   "source": [
    "## A reasonable reaction\n",
    "\n",
    "![](images/munch_scream.jpg)\n",
    "\n",
    "::: footer\n",
    "Edvard Munch (1893) \"The Scream\", photo by [Richard\n",
    "Mortel](https://www.flickr.com/photos/prof_richard/35658212823), licensed with\n",
    "[CC-By](https://creativecommons.org/licenses/by/2.0).\n",
    ":::\n",
    "\n",
    "## Another way\n",
    "\n",
    "We would like to draw a very large number of `beer` and `water` samples from\n",
    "the null world.\n",
    "\n",
    "For each null-world sample, we calculate the mean difference.\n",
    "\n",
    "These mean-difference values form the *sampling distribution under the null hypothesis*.\n",
    "\n",
    "But — how do we get these many samples?\n",
    "\n",
    "## Some machinery\n",
    "\n",
    "Variables are names for values:"
   ]
  },
  {
   "cell_type": "code",
   "execution_count": null,
   "metadata": {},
   "outputs": [],
   "source": [
    "#| echo: true\n",
    "a = 10\n",
    "# Show the result.\n",
    "a"
   ]
  },
  {
   "cell_type": "code",
   "execution_count": null,
   "metadata": {},
   "outputs": [],
   "source": [
    "#| echo: true\n",
    "b = 99\n",
    "# Show the result.\n",
    "b"
   ]
  },
  {
   "cell_type": "markdown",
   "metadata": {},
   "source": [
    "## Arrays\n",
    "\n",
    "Arrays are values that are containers for other values.  They can contain many values."
   ]
  },
  {
   "cell_type": "code",
   "execution_count": null,
   "metadata": {},
   "outputs": [],
   "source": [
    "#| echo: true\n",
    "c = np.array([1, 3, 5, 9])\n",
    "c"
   ]
  },
  {
   "cell_type": "code",
   "execution_count": null,
   "metadata": {},
   "outputs": [],
   "source": [
    "#| echo: true\n",
    "d = np.array([100, -4, 3.9, 7, 0, -2.1])\n",
    "d"
   ]
  },
  {
   "cell_type": "markdown",
   "metadata": {},
   "source": [
    "## Working with arrays\n",
    "\n",
    "We can stick arrays (containers) together with the `concatenate` function:"
   ]
  },
  {
   "cell_type": "code",
   "execution_count": null,
   "metadata": {},
   "outputs": [],
   "source": [
    "#| echo: true\n",
    "e = np.concatenate([c, d])\n",
    "e"
   ]
  },
  {
   "cell_type": "markdown",
   "metadata": {},
   "source": [
    "We can select the first (e.g.) 4 elements with *indexing*:"
   ]
  },
  {
   "cell_type": "code",
   "execution_count": null,
   "metadata": {},
   "outputs": [],
   "source": [
    "#| echo: true\n",
    "# Select the first four elements.\n",
    "f = e[:4]\n",
    "f"
   ]
  },
  {
   "cell_type": "markdown",
   "metadata": {},
   "source": [
    "## Randomness\n",
    "\n",
    "The computer provides routines to generate randomness:"
   ]
  },
  {
   "cell_type": "code",
   "execution_count": null,
   "metadata": {},
   "outputs": [],
   "source": [
    "#| echo: true\n",
    "# Random number generator.\n",
    "rng = np.random.default_rng()"
   ]
  },
  {
   "cell_type": "markdown",
   "metadata": {},
   "source": [
    "Among many other things, we can randomly shuffle (permute) the values in\n",
    "arrays."
   ]
  },
  {
   "cell_type": "code",
   "execution_count": null,
   "metadata": {},
   "outputs": [],
   "source": [
    "#| echo: true\n",
    "g = rng.permuted(f)\n",
    "# Show the result.\n",
    "g"
   ]
  },
  {
   "cell_type": "code",
   "execution_count": null,
   "metadata": {},
   "outputs": [],
   "source": [
    "#| echo: true\n",
    "# And again, showing the result.\n",
    "rng.permuted(f)"
   ]
  },
  {
   "cell_type": "markdown",
   "metadata": {},
   "source": [
    "## Samples from the null?\n",
    "\n",
    "The permutation idea:\n",
    "\n",
    "* Put all the `beer` and `water` values into one large array.\n",
    "* This large array will represent the (shared) population under the null.\n",
    "* Select 25 values at random from this array.  These are the fake beer values.\n",
    "* The remaining 18 will be the fake water values.\n",
    "* Calculate the mean difference.\n",
    "\n",
    "## The \"population\""
   ]
  },
  {
   "cell_type": "code",
   "execution_count": null,
   "metadata": {},
   "outputs": [],
   "source": [
    "#| echo: true\n",
    "population = np.concatenate([beers, waters])\n",
    "population"
   ]
  },
  {
   "cell_type": "code",
   "execution_count": null,
   "metadata": {},
   "outputs": [],
   "source": [
    "#| echo: true\n",
    "shuffled = rng.permuted(population)\n",
    "shuffled"
   ]
  },
  {
   "cell_type": "markdown",
   "metadata": {},
   "source": [
    "## One trial starts"
   ]
  },
  {
   "cell_type": "code",
   "execution_count": null,
   "metadata": {},
   "outputs": [],
   "source": [
    "#| echo: true\n",
    "# A new shuffling\n",
    "shuffled = rng.permuted(population)\n",
    "# Select the first 25 values as the fake beer values.\n",
    "fake_beers = shuffled[:25]\n",
    "fake_beers"
   ]
  },
  {
   "cell_type": "code",
   "execution_count": null,
   "metadata": {},
   "outputs": [],
   "source": [
    "#| echo: true\n",
    "# Select the last 18 values (from 25 onwards) as fake water.\n",
    "fake_waters = shuffled[25:]\n",
    "fake_waters"
   ]
  },
  {
   "cell_type": "markdown",
   "metadata": {},
   "source": [
    "## One trial finishes"
   ]
  },
  {
   "cell_type": "code",
   "execution_count": null,
   "metadata": {},
   "outputs": [],
   "source": [
    "#| echo: true\n",
    "# Mean of the fake beer values.\n",
    "fbm = np.mean(fake_beers)\n",
    "fbm"
   ]
  },
  {
   "cell_type": "code",
   "execution_count": null,
   "metadata": {},
   "outputs": [],
   "source": [
    "#| echo: true\n",
    "# Mean of the fake water values.\n",
    "fwm = np.mean(fake_waters)\n",
    "fwm"
   ]
  },
  {
   "cell_type": "code",
   "execution_count": null,
   "metadata": {},
   "outputs": [],
   "source": [
    "#| echo: true\n",
    "# Difference between the fake means.\n",
    "fm_diff = fbm - fwm\n",
    "fm_diff"
   ]
  },
  {
   "cell_type": "markdown",
   "metadata": {},
   "source": [
    "## One trial in one cell"
   ]
  },
  {
   "cell_type": "code",
   "execution_count": null,
   "metadata": {},
   "outputs": [],
   "source": [
    "#| echo: true\n",
    "shuffled = rng.permuted(population)\n",
    "fake_beers = shuffled[:25]\n",
    "fake_waters = shuffled[25:]\n",
    "fbm = np.mean(fake_beers)\n",
    "fwm = np.mean(fake_waters)\n",
    "fm_diff = fbm - fwm\n",
    "fm_diff"
   ]
  },
  {
   "cell_type": "code",
   "execution_count": null,
   "metadata": {},
   "outputs": [],
   "source": [
    "#| echo: true\n",
    "# And again.\n",
    "shuffled = rng.permuted(population)\n",
    "fake_beers = shuffled[:25]\n",
    "fake_waters = shuffled[25:]\n",
    "fbm = np.mean(fake_beers)\n",
    "fwm = np.mean(fake_waters)\n",
    "fm_diff = fbm - fwm\n",
    "fm_diff"
   ]
  },
  {
   "cell_type": "markdown",
   "metadata": {},
   "source": [
    "## Repeating trials"
   ]
  },
  {
   "cell_type": "code",
   "execution_count": null,
   "metadata": {},
   "outputs": [],
   "source": [
    "#| echo: true\n",
    "# Repeat procedure eight times.\n",
    "for i in range(8):\n",
    "    print(i)"
   ]
  },
  {
   "cell_type": "markdown",
   "metadata": {},
   "source": [
    "## Storing the results for each trial"
   ]
  },
  {
   "cell_type": "code",
   "execution_count": null,
   "metadata": {},
   "outputs": [],
   "source": [
    "#| echo: true\n",
    "# Making an array of zeros.\n",
    "z = np.zeros(8)\n",
    "z"
   ]
  },
  {
   "cell_type": "code",
   "execution_count": null,
   "metadata": {},
   "outputs": [],
   "source": [
    "#| echo: true\n",
    "# Setting an element.\n",
    "z[0] = 1  # Set the first element.\n",
    "z[1] = 99  # Set the second element.\n",
    "z"
   ]
  },
  {
   "cell_type": "markdown",
   "metadata": {},
   "source": [
    "## And finally"
   ]
  },
  {
   "cell_type": "code",
   "execution_count": null,
   "metadata": {},
   "outputs": [],
   "source": [
    "#| echo: true\n",
    "z = np.zeros(10000)\n",
    "\n",
    "# Repeat procedure 10000 times.\n",
    "for i in range(10000):\n",
    "    # The trial procedure above.\n",
    "    shuffled = rng.permuted(population)\n",
    "    fake_beers = shuffled[:25]\n",
    "    fake_waters = shuffled[25:]\n",
    "    fbm = np.mean(fake_beers)\n",
    "    fwm = np.mean(fake_waters)\n",
    "    fm_diff = fbm - fwm\n",
    "    # Store the result.\n",
    "    z[i] = fm_diff\n",
    "\n",
    "# Show the first 10 values.\n",
    "z[:10]"
   ]
  },
  {
   "cell_type": "markdown",
   "metadata": {},
   "source": [
    "## The sampling distribution"
   ]
  },
  {
   "cell_type": "code",
   "execution_count": null,
   "metadata": {},
   "outputs": [],
   "source": [
    "#| echo: true\n",
    "plt.hist(z, bins=50)\n",
    "plt.title('Sampling distribution of mean difference')\n",
    "plt.axvline(mean_diff, color='red', label='Observed difference')\n",
    "plt.legend()"
   ]
  },
  {
   "cell_type": "markdown",
   "metadata": {},
   "source": [
    "## The p value"
   ]
  },
  {
   "cell_type": "code",
   "execution_count": null,
   "metadata": {},
   "outputs": [],
   "source": [
    "#| echo: true\n",
    "n_ge = np.count_nonzero(z >= mean_diff)\n",
    "n_ge"
   ]
  },
  {
   "cell_type": "code",
   "execution_count": null,
   "metadata": {},
   "outputs": [],
   "source": [
    "#| echo: true\n",
    "p = n_ge / 10000\n",
    "p"
   ]
  },
  {
   "cell_type": "markdown",
   "metadata": {},
   "source": [
    "## Back to the t-test"
   ]
  },
  {
   "cell_type": "code",
   "execution_count": null,
   "metadata": {},
   "outputs": [],
   "source": [
    "#| echo: true\n",
    "sps.ttest_ind(beers, waters, alternative='greater')"
   ]
  },
  {
   "cell_type": "code",
   "execution_count": null,
   "metadata": {},
   "outputs": [],
   "source": [
    "#| echo: true\n",
    "sps.ttest_ind(beers, waters, permutations=10000, alternative='greater')"
   ]
  },
  {
   "cell_type": "markdown",
   "metadata": {},
   "source": [
    "## And likewise for ...\n",
    "\n",
    "* [Inference on contingency\n",
    "  tables](https://lisds.github.io/textbook/wild-pandas/fishers_tea).\n",
    "* [Regression and correlation](https://lisds.github.io/textbook/mean-slopes/inference_on_slopes)\n",
    "\n",
    "## The new world\n",
    "\n",
    "* Everything is resampling.\n",
    "* Traditional statistics by analogy.\n",
    "* Data science libraries for working with data.\n",
    "* Reproducibility by design.\n",
    "\n",
    "## Read more\n",
    "\n",
    "* [Berkeley textbook](https://inferentialthinking.com)\n",
    "* [Our textbook](https://lisds.github.io/textbook)\n",
    "* [Resampling with R and Python book](https://resampling-stats.github.io).\n",
    "\n",
    "## The end\n",
    "\n",
    "All material for this talk at\n",
    "<https://github.com/matthew-brett/statistics-without>.\n",
    "\n",
    "## Bibliography"
   ]
  }
 ],
 "metadata": {
  "kernelspec": {
   "display_name": "Python (Pyodide)",
   "name": "python"
  }
 },
 "nbformat": 4,
 "nbformat_minor": 4
}
