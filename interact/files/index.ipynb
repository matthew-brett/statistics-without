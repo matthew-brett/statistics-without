{
 "cells": [
  {
   "cell_type": "markdown",
   "metadata": {},
   "source": [
    "---\n",
    "title: \"Statistics without the agonizing pain\"\n",
    "author: \"Matthew Brett\"\n",
    "bibliography: without.bib\n",
    "format:\n",
    "  revealjs:\n",
    "    preview-links: auto\n",
    "    embed-resources: true\n",
    "---\n",
    "\n",
    "## Standing on the YouTube channels of giants\n",
    "\n",
    "With thanks to John Rauser: [Statistics Without the Agonizing\n",
    "Pain](https://www.youtube.com/watch?v=5Dnw46eC-0o)\n",
    "\n",
    "## Assertion\n",
    "\n",
    "> Teaching statistics by way of mathematics is like teaching philosophy by way\n",
    "of ancient Greek\n",
    "\n",
    "(Paraphrased from @wallis1956statistics).\n",
    "\n",
    "## Epicycles\n",
    "\n",
    "![](images/ptolemaic.png)\n",
    "\n",
    "@cobb2007introductory\n",
    "\n",
    "## A problem\n",
    "\n",
    "![](images/mosquito_banner.png)\n",
    "\n",
    "## Our data\n",
    "\n",
    "From [Mosquito, beer\n",
    "dataset](https://github.com/odsti/datasets/tree/main/mosquito_beer)."
   ]
  },
  {
   "cell_type": "code",
   "execution_count": null,
   "metadata": {},
   "outputs": [],
   "source": [
    "import numpy as np  # The array library.\n",
    "import pandas as pd  # Data science library.\n",
    "import matplotlib.pyplot as plt  # Plotting library.\n",
    "\n",
    "# Load the data file.\n",
    "mosquitoes = pd.read_csv('data/mosquito_beer.csv')\n",
    "# Select the measurements after drink (beer or water).\n",
    "afters = mosquitoes[mosquitoes['test'] == 'after']\n",
    "# Get the activated values for beer and water.\n",
    "beers = afters.loc[afters['group'] == 'beer', 'activated'].values\n",
    "waters = afters.loc[afters['group'] == 'water', 'activated'].values"
   ]
  },
  {
   "cell_type": "code",
   "execution_count": null,
   "metadata": {},
   "outputs": [],
   "source": [
    "#| echo: true\n",
    "beers"
   ]
  },
  {
   "cell_type": "code",
   "execution_count": null,
   "metadata": {},
   "outputs": [],
   "source": [
    "#| echo: true\n",
    "waters"
   ]
  },
  {
   "cell_type": "markdown",
   "metadata": {},
   "source": [
    "## Distributions"
   ]
  },
  {
   "cell_type": "code",
   "execution_count": null,
   "metadata": {},
   "outputs": [],
   "source": [
    "# Plot histograms of beer and water values.\n",
    "bins = np.arange(0, 38, 2)\n",
    "plt.hist(beers, bins=bins, alpha=0.5, label='beer')\n",
    "plt.hist(waters, bins=bins, alpha=0.5, label='water')\n",
    "plt.title('Distribution of beer and water values')\n",
    "plt.legend();"
   ]
  },
  {
   "cell_type": "markdown",
   "metadata": {},
   "source": [
    "## Means and difference"
   ]
  },
  {
   "cell_type": "code",
   "execution_count": null,
   "metadata": {},
   "outputs": [],
   "source": [
    "mean_beer = np.mean(beers)\n",
    "print(f'Mean of beer values is: {mean_beer:.2f}')"
   ]
  },
  {
   "cell_type": "code",
   "execution_count": null,
   "metadata": {},
   "outputs": [],
   "source": [
    "mean_water = np.mean(waters)\n",
    "print(f'Mean of water values is: {mean_water:.2f}')"
   ]
  },
  {
   "cell_type": "code",
   "execution_count": null,
   "metadata": {},
   "outputs": [],
   "source": [
    "mean_diff = mean_beer - mean_water\n",
    "print(f'Mean difference is: {mean_diff:.2f}')"
   ]
  },
  {
   "cell_type": "markdown",
   "metadata": {},
   "source": [
    "## The null hypothesis\n",
    "\n",
    "Null means \"not any\".\n",
    "\n",
    "Define a world in which the difference of interest is set to zero.\n",
    "\n",
    "> The two samples have been drawn from the same underlying population.\n",
    "\n",
    "Or:\n",
    "\n",
    "> There is not any difference in the population from which `beer` has been\n",
    "drawn, and the population from which `water` has been drawn.\n",
    "\n",
    "## The t-test.\n",
    "\n",
    "![](images/ind_t_test.jpg)\n",
    "\n",
    "::: footer\n",
    "See the [t-test formula page of Statistical tools for high-throughput data\n",
    "analysis](http://www.sthda.com/english/wiki/t-test-formula#independent-two-sample-t-test)\n",
    ":::\n",
    "\n",
    "## A reasonable reaction\n",
    "\n",
    "![](images/munch_scream.jpg)\n",
    "\n",
    "::: footer\n",
    "Edvard Munch \"Scream\", photo by [Richard\n",
    "Mortel](https://www.flickr.com/photos/prof_richard/35658212823), licensed with\n",
    "[CC-By](https://creativecommons.org/licenses/by/2.0).\n",
    ":::\n",
    "\n",
    "## Read more\n",
    "\n",
    "* [Our textbook](https://lisds.github.io/textbook)\n",
    "* [Resampling with R and Python book](https://resampling-stats.github.io).\n",
    "\n",
    "::: footer\n",
    "More information.\n",
    ":::\n",
    "\n",
    "## Bibliography"
   ]
  }
 ],
 "metadata": {
  "kernelspec": {
   "display_name": "Python (Pyodide)",
   "name": "python"
  }
 },
 "nbformat": 4,
 "nbformat_minor": 4
}
